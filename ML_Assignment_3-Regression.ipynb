{
 "cells": [
  {
   "cell_type": "code",
   "execution_count": 2,
   "id": "355b1d59-33fb-4b67-81ec-c5685f1be35a",
   "metadata": {},
   "outputs": [
    {
     "name": "stdout",
     "output_type": "stream",
     "text": [
      "   MedInc  HouseAge  AveRooms  AveBedrms  Population  AveOccup  Latitude  \\\n",
      "0  8.3252      41.0  6.984127   1.023810       322.0  2.555556     37.88   \n",
      "1  8.3014      21.0  6.238137   0.971880      2401.0  2.109842     37.86   \n",
      "2  7.2574      52.0  8.288136   1.073446       496.0  2.802260     37.85   \n",
      "3  5.6431      52.0  5.817352   1.073059       558.0  2.547945     37.85   \n",
      "4  3.8462      52.0  6.281853   1.081081       565.0  2.181467     37.85   \n",
      "\n",
      "   Longitude  MedHouseVal  \n",
      "0    -122.23        4.526  \n",
      "1    -122.22        3.585  \n",
      "2    -122.24        3.521  \n",
      "3    -122.25        3.413  \n",
      "4    -122.25        3.422  \n"
     ]
    }
   ],
   "source": [
    "from sklearn.datasets import fetch_california_housing\n",
    "import pandas as pd\n",
    "\n",
    "# Load dataset\n",
    "california = fetch_california_housing()\n",
    "\n",
    "# Convert to DataFrame\n",
    "df = pd.DataFrame(data=california.data, columns=california.feature_names)\n",
    "df['MedHouseVal'] = california.target  # Add target column\n",
    "\n",
    "print(df.head())"
   ]
  },
  {
   "cell_type": "code",
   "execution_count": 4,
   "id": "7daac23e-4dd9-45ff-ba65-7b2f1bbd05e0",
   "metadata": {},
   "outputs": [
    {
     "name": "stdout",
     "output_type": "stream",
     "text": [
      "MedInc         0\n",
      "HouseAge       0\n",
      "AveRooms       0\n",
      "AveBedrms      0\n",
      "Population     0\n",
      "AveOccup       0\n",
      "Latitude       0\n",
      "Longitude      0\n",
      "MedHouseVal    0\n",
      "dtype: int64\n"
     ]
    }
   ],
   "source": [
    "# Check for missing values\n",
    "print(df.isnull().sum())"
   ]
  },
  {
   "cell_type": "code",
   "execution_count": 8,
   "id": "c25c5d14-c334-48fd-9538-bf1cf7e1fe49",
   "metadata": {},
   "outputs": [
    {
     "name": "stdout",
     "output_type": "stream",
     "text": [
      "     MedInc  HouseAge  AveRooms  AveBedrms  Population  AveOccup  Latitude  \\\n",
      "0  2.344766  0.982143  0.628559  -0.153758   -0.974429 -0.049597  1.052548   \n",
      "1  2.332238 -0.607019  0.327041  -0.263336    0.861439 -0.092512  1.043185   \n",
      "2  1.782699  1.856182  1.155620  -0.049016   -0.820777 -0.025843  1.038503   \n",
      "3  0.932968  1.856182  0.156966  -0.049833   -0.766028 -0.050329  1.038503   \n",
      "4 -0.012881  1.856182  0.344711  -0.032906   -0.759847 -0.085616  1.038503   \n",
      "\n",
      "   Longitude  MedHouseVal  \n",
      "0  -1.327835        4.526  \n",
      "1  -1.322844        3.585  \n",
      "2  -1.332827        3.521  \n",
      "3  -1.337818        3.413  \n",
      "4  -1.337818        3.422  \n"
     ]
    }
   ],
   "source": [
    "from sklearn.preprocessing import StandardScaler\n",
    "\n",
    "# Create scaler\n",
    "scaler = StandardScaler()\n",
    "\n",
    "# Scale all features (excluding the target)\n",
    "scaled_features = scaler.fit_transform(df.drop(columns=['MedHouseVal']))\n",
    "\n",
    "# Convert back to DataFrame\n",
    "df_scaled = pd.DataFrame(scaled_features, columns=california.feature_names)\n",
    "df_scaled['MedHouseVal'] = df['MedHouseVal']  # Add target back\n",
    "\n",
    "print(df_scaled.head())"
   ]
  },
  {
   "cell_type": "code",
   "execution_count": 10,
   "id": "1340aa0d-7dc4-4491-8bf3-96889d01e051",
   "metadata": {},
   "outputs": [],
   "source": [
    "from sklearn.model_selection import train_test_split\n",
    "from sklearn.metrics import mean_squared_error, r2_score\n",
    "\n",
    "# Features and target\n",
    "X = df_scaled.drop(columns=['MedHouseVal'])\n",
    "y = df_scaled['MedHouseVal']\n",
    "\n",
    "# Train-test split\n",
    "X_train, X_test, y_train, y_test = train_test_split(X, y, test_size=0.2, random_state=42)"
   ]
  },
  {
   "cell_type": "code",
   "execution_count": 12,
   "id": "2304d31e-d45d-4fbf-b52a-e06a9977ef5e",
   "metadata": {},
   "outputs": [
    {
     "name": "stdout",
     "output_type": "stream",
     "text": [
      "Linear Regression R² Score: 0.575787706032451\n",
      "Linear Regression RMSE: 0.7455813830127763\n"
     ]
    },
    {
     "name": "stderr",
     "output_type": "stream",
     "text": [
      "C:\\Users\\unnim\\anaconda3\\Lib\\site-packages\\sklearn\\metrics\\_regression.py:492: FutureWarning: 'squared' is deprecated in version 1.4 and will be removed in 1.6. To calculate the root mean squared error, use the function'root_mean_squared_error'.\n",
      "  warnings.warn(\n"
     ]
    }
   ],
   "source": [
    "from sklearn.linear_model import LinearRegression\n",
    "\n",
    "lr = LinearRegression()\n",
    "lr.fit(X_train, y_train)\n",
    "\n",
    "y_pred_lr = lr.predict(X_test)\n",
    "\n",
    "print(\"Linear Regression R² Score:\", r2_score(y_test, y_pred_lr))\n",
    "print(\"Linear Regression RMSE:\", mean_squared_error(y_test, y_pred_lr, squared=False))"
   ]
  },
  {
   "cell_type": "code",
   "execution_count": 16,
   "id": "40f25100-84ae-4245-9d06-6f9f3def9f74",
   "metadata": {},
   "outputs": [
    {
     "name": "stdout",
     "output_type": "stream",
     "text": [
      "Decision Tree R² Score: 0.6228111330554302\n",
      "Decision Tree RMSE: 0.7030445773467542\n"
     ]
    },
    {
     "name": "stderr",
     "output_type": "stream",
     "text": [
      "C:\\Users\\unnim\\anaconda3\\Lib\\site-packages\\sklearn\\metrics\\_regression.py:492: FutureWarning: 'squared' is deprecated in version 1.4 and will be removed in 1.6. To calculate the root mean squared error, use the function'root_mean_squared_error'.\n",
      "  warnings.warn(\n"
     ]
    }
   ],
   "source": [
    "from sklearn.tree import DecisionTreeRegressor\n",
    "\n",
    "dt = DecisionTreeRegressor(random_state=42)\n",
    "dt.fit(X_train, y_train)\n",
    "\n",
    "y_pred_dt = dt.predict(X_test)\n",
    "\n",
    "print(\"Decision Tree R² Score:\", r2_score(y_test, y_pred_dt))\n",
    "print(\"Decision Tree RMSE:\", mean_squared_error(y_test, y_pred_dt, squared=False))"
   ]
  },
  {
   "cell_type": "code",
   "execution_count": 18,
   "id": "dd50d798-c4f7-40cb-a165-2dc35ce15f95",
   "metadata": {},
   "outputs": [
    {
     "name": "stdout",
     "output_type": "stream",
     "text": [
      "Random Forest R² Score: 0.805024407701793\n",
      "Random Forest RMSE: 0.5054678690929896\n"
     ]
    },
    {
     "name": "stderr",
     "output_type": "stream",
     "text": [
      "C:\\Users\\unnim\\anaconda3\\Lib\\site-packages\\sklearn\\metrics\\_regression.py:492: FutureWarning: 'squared' is deprecated in version 1.4 and will be removed in 1.6. To calculate the root mean squared error, use the function'root_mean_squared_error'.\n",
      "  warnings.warn(\n"
     ]
    }
   ],
   "source": [
    "from sklearn.ensemble import RandomForestRegressor\n",
    "\n",
    "rf = RandomForestRegressor(n_estimators=100, random_state=42)\n",
    "rf.fit(X_train, y_train)\n",
    "\n",
    "y_pred_rf = rf.predict(X_test)\n",
    "\n",
    "print(\"Random Forest R² Score:\", r2_score(y_test, y_pred_rf))\n",
    "print(\"Random Forest RMSE:\", mean_squared_error(y_test, y_pred_rf, squared=False))"
   ]
  },
  {
   "cell_type": "code",
   "execution_count": 19,
   "id": "cc6305e1-a041-4d0e-9db2-e61ad0d3e02b",
   "metadata": {},
   "outputs": [
    {
     "name": "stdout",
     "output_type": "stream",
     "text": [
      "Gradient Boosting R² Score: 0.7756433164710084\n",
      "Gradient Boosting RMSE: 0.5422167577867202\n"
     ]
    },
    {
     "name": "stderr",
     "output_type": "stream",
     "text": [
      "C:\\Users\\unnim\\anaconda3\\Lib\\site-packages\\sklearn\\metrics\\_regression.py:492: FutureWarning: 'squared' is deprecated in version 1.4 and will be removed in 1.6. To calculate the root mean squared error, use the function'root_mean_squared_error'.\n",
      "  warnings.warn(\n"
     ]
    }
   ],
   "source": [
    "from sklearn.ensemble import GradientBoostingRegressor\n",
    "\n",
    "gb = GradientBoostingRegressor(n_estimators=100, learning_rate=0.1, random_state=42)\n",
    "gb.fit(X_train, y_train)\n",
    "\n",
    "y_pred_gb = gb.predict(X_test)\n",
    "\n",
    "print(\"Gradient Boosting R² Score:\", r2_score(y_test, y_pred_gb))\n",
    "print(\"Gradient Boosting RMSE:\", mean_squared_error(y_test, y_pred_gb, squared=False))"
   ]
  },
  {
   "cell_type": "code",
   "execution_count": 21,
   "id": "a8ba06b8-f79d-40ce-b0c4-11eb202508ea",
   "metadata": {},
   "outputs": [
    {
     "name": "stdout",
     "output_type": "stream",
     "text": [
      "SVR R² Score: 0.7289407597956462\n",
      "SVR RMSE: 0.595985286730253\n"
     ]
    },
    {
     "name": "stderr",
     "output_type": "stream",
     "text": [
      "C:\\Users\\unnim\\anaconda3\\Lib\\site-packages\\sklearn\\metrics\\_regression.py:492: FutureWarning: 'squared' is deprecated in version 1.4 and will be removed in 1.6. To calculate the root mean squared error, use the function'root_mean_squared_error'.\n",
      "  warnings.warn(\n"
     ]
    }
   ],
   "source": [
    "from sklearn.svm import SVR\n",
    "\n",
    "svr = SVR(kernel='rbf')\n",
    "svr.fit(X_train, y_train)\n",
    "\n",
    "y_pred_svr = svr.predict(X_test)\n",
    "\n",
    "print(\"SVR R² Score:\", r2_score(y_test, y_pred_svr))\n",
    "print(\"SVR RMSE:\", mean_squared_error(y_test, y_pred_svr, squared=False))"
   ]
  },
  {
   "cell_type": "code",
   "execution_count": 24,
   "id": "2002547f-720a-4936-8ce7-4a4b7c2b6c4f",
   "metadata": {},
   "outputs": [
    {
     "name": "stdout",
     "output_type": "stream",
     "text": [
      "               Model       MSE       MAE        R²\n",
      "2      Random Forest  0.255498  0.327613  0.805024\n",
      "3  Gradient Boosting  0.293999  0.371650  0.775643\n",
      "4                SVR  0.355198  0.397763  0.728941\n",
      "1      Decision Tree  0.494272  0.453784  0.622811\n",
      "0  Linear Regression  0.555892  0.533200  0.575788\n"
     ]
    }
   ],
   "source": [
    "from sklearn.metrics import mean_squared_error, mean_absolute_error, r2_score\n",
    "\n",
    "# Store models and predictions in a list\n",
    "models = {\n",
    "    'Linear Regression': y_pred_lr,\n",
    "    'Decision Tree': y_pred_dt,\n",
    "    'Random Forest': y_pred_rf,\n",
    "    'Gradient Boosting': y_pred_gb,\n",
    "    'SVR': y_pred_svr\n",
    "}\n",
    "\n",
    "# Initialize results list\n",
    "results = []\n",
    "\n",
    "# Calculate metrics\n",
    "for name, preds in models.items():\n",
    "    mse = mean_squared_error(y_test, preds)\n",
    "    mae = mean_absolute_error(y_test, preds)\n",
    "    r2 = r2_score(y_test, preds)\n",
    "    results.append({'Model': name, 'MSE': mse, 'MAE': mae, 'R²': r2})\n",
    "\n",
    "# Create and print DataFrame\n",
    "results_df = pd.DataFrame(results).sort_values(by='R²', ascending=False)\n",
    "print(results_df)"
   ]
  },
  {
   "cell_type": "code",
   "execution_count": null,
   "id": "85037872-d940-4dab-b69b-3df398de2636",
   "metadata": {},
   "outputs": [],
   "source": []
  }
 ],
 "metadata": {
  "kernelspec": {
   "display_name": "Python [conda env:base] *",
   "language": "python",
   "name": "conda-base-py"
  },
  "language_info": {
   "codemirror_mode": {
    "name": "ipython",
    "version": 3
   },
   "file_extension": ".py",
   "mimetype": "text/x-python",
   "name": "python",
   "nbconvert_exporter": "python",
   "pygments_lexer": "ipython3",
   "version": "3.12.7"
  }
 },
 "nbformat": 4,
 "nbformat_minor": 5
}
